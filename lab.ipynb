{
 "cells": [
  {
   "cell_type": "markdown",
   "metadata": {},
   "source": [
    "<h1 align=\"center\">TensorFlow Neural Network Lab</h1>"
   ]
  },
  {
   "cell_type": "markdown",
   "metadata": {},
   "source": [
    "<img src=\"image/notmnist.png\">\n",
    "In this lab, you'll use all the tools you learned from *Introduction to TensorFlow* to label images of English letters! The data you are using, <a href=\"http://yaroslavvb.blogspot.com/2011/09/notmnist-dataset.html\">notMNIST</a>, consists of images of a letter from A to J in differents font.\n",
    "\n",
    "The above images are a few examples of the data you'll be training on. After training the network, you will compare your prediction model against test data. Your goal, by the end of this lab, is to make predictions against that test set with at least an 80% accuracy. Let's jump in!"
   ]
  },
  {
   "cell_type": "markdown",
   "metadata": {},
   "source": [
    "To start this lab, you first need to import all the necessary modules. Run the code below. If it runs successfully, it will print \"`All modules imported`\"."
   ]
  },
  {
   "cell_type": "code",
   "execution_count": 1,
   "metadata": {
    "collapsed": false
   },
   "outputs": [
    {
     "name": "stdout",
     "output_type": "stream",
     "text": [
      "All modules imported.\n"
     ]
    }
   ],
   "source": [
    "import hashlib\n",
    "import os\n",
    "import pickle\n",
    "from urllib.request import urlretrieve\n",
    "\n",
    "import numpy as np\n",
    "from PIL import Image\n",
    "from sklearn.model_selection import train_test_split\n",
    "from sklearn.preprocessing import LabelBinarizer\n",
    "from sklearn.utils import resample\n",
    "from tqdm import tqdm\n",
    "from zipfile import ZipFile\n",
    "\n",
    "print('All modules imported.')"
   ]
  },
  {
   "cell_type": "markdown",
   "metadata": {},
   "source": [
    "The notMNIST dataset is too large for many computers to handle.  It contains 500,000 images for just training.  You'll be using a subset of this data, 15,000 images for each label (A-J)."
   ]
  },
  {
   "cell_type": "code",
   "execution_count": 2,
   "metadata": {
    "collapsed": false
   },
   "outputs": [
    {
     "name": "stdout",
     "output_type": "stream",
     "text": [
      "All files downloaded.\n"
     ]
    }
   ],
   "source": [
    "def download(url, file):\n",
    "    \"\"\"\n",
    "    Download file from <url>\n",
    "    :param url: URL to file\n",
    "    :param file: Local file path\n",
    "    \"\"\"\n",
    "    if not os.path.isfile(file):\n",
    "        print('Downloading ' + file + '...')\n",
    "        urlretrieve(url, file)\n",
    "        print('Download Finished')\n",
    "\n",
    "# Download the training and test dataset.\n",
    "download('https://s3.amazonaws.com/udacity-sdc/notMNIST_train.zip', 'notMNIST_train.zip')\n",
    "download('https://s3.amazonaws.com/udacity-sdc/notMNIST_test.zip', 'notMNIST_test.zip')\n",
    "\n",
    "# Make sure the files aren't corrupted\n",
    "assert hashlib.md5(open('notMNIST_train.zip', 'rb').read()).hexdigest() == 'c8673b3f28f489e9cdf3a3d74e2ac8fa',\\\n",
    "        'notMNIST_train.zip file is corrupted.  Remove the file and try again.'\n",
    "assert hashlib.md5(open('notMNIST_test.zip', 'rb').read()).hexdigest() == '5d3c7e653e63471c88df796156a9dfa9',\\\n",
    "        'notMNIST_test.zip file is corrupted.  Remove the file and try again.'\n",
    "\n",
    "# Wait until you see that all files have been downloaded.\n",
    "print('All files downloaded.')"
   ]
  },
  {
   "cell_type": "code",
   "execution_count": 3,
   "metadata": {
    "collapsed": false
   },
   "outputs": [
    {
     "name": "stderr",
     "output_type": "stream",
     "text": [
      "100%|██████████| 210001/210001 [00:38<00:00, 5452.70files/s]\n",
      "100%|██████████| 10001/10001 [00:01<00:00, 5322.21files/s]\n"
     ]
    },
    {
     "name": "stdout",
     "output_type": "stream",
     "text": [
      "All features and labels uncompressed.\n"
     ]
    }
   ],
   "source": [
    "def uncompress_features_labels(file):\n",
    "    \"\"\"\n",
    "    Uncompress features and labels from a zip file\n",
    "    :param file: The zip file to extract the data from\n",
    "    \"\"\"\n",
    "    features = []\n",
    "    labels = []\n",
    "\n",
    "    with ZipFile(file) as zipf:\n",
    "        # Progress Bar\n",
    "        filenames_pbar = tqdm(zipf.namelist(), unit='files')\n",
    "        \n",
    "        # Get features and labels from all files\n",
    "        for filename in filenames_pbar:\n",
    "            # Check if the file is a directory\n",
    "            if not filename.endswith('/'):\n",
    "                with zipf.open(filename) as image_file:\n",
    "                    image = Image.open(image_file)\n",
    "                    image.load()\n",
    "                    # Load image data as 1 dimensional array\n",
    "                    # We're using float32 to save on memory space\n",
    "                    feature = np.array(image, dtype=np.float32).flatten()\n",
    "\n",
    "                # Get the the letter from the filename.  This is the letter of the image.\n",
    "                label = os.path.split(filename)[1][0]\n",
    "\n",
    "                features.append(feature)\n",
    "                labels.append(label)\n",
    "    return np.array(features), np.array(labels)\n",
    "\n",
    "# Get the features and labels from the zip files\n",
    "train_features, train_labels = uncompress_features_labels('notMNIST_train.zip')\n",
    "test_features, test_labels = uncompress_features_labels('notMNIST_test.zip')\n",
    "\n",
    "# Limit the amount of data to work with a docker container\n",
    "docker_size_limit = 150000\n",
    "train_features, train_labels = resample(train_features, train_labels, n_samples=docker_size_limit)\n",
    "\n",
    "# Set flags for feature engineering.  This will prevent you from skipping an important step.\n",
    "is_features_normal = False\n",
    "is_labels_encod = False\n",
    "\n",
    "# Wait until you see that all features and labels have been uncompressed.\n",
    "print('All features and labels uncompressed.')"
   ]
  },
  {
   "cell_type": "markdown",
   "metadata": {},
   "source": [
    "<img src=\"image/mean_variance.png\" style=\"height: 75%;width: 75%; position: relative; right: 5%\">\n",
    "## Problem 1\n",
    "The first problem involves normalizing the features for your training and test data.\n",
    "\n",
    "Implement Min-Max scaling in the `normalize()` function to a range of `a=0.1` and `b=0.9`. After scaling, the values of the pixels in the input data should range from 0.1 to 0.9.\n",
    "\n",
    "Since the raw notMNIST image data is in [grayscale](https://en.wikipedia.org/wiki/Grayscale), the current values range from a min of 0 to a max of 255.\n",
    "\n",
    "Min-Max Scaling:\n",
    "$\n",
    "X'=a+{\\frac {\\left(X-X_{\\min }\\right)\\left(b-a\\right)}{X_{\\max }-X_{\\min }}}\n",
    "$\n",
    "\n",
    "*If you're having trouble solving problem 1, you can view the solution [here](https://github.com/udacity/CarND-TensorFlow-Lab/blob/master/solutions.ipynb).*"
   ]
  },
  {
   "cell_type": "code",
   "execution_count": 5,
   "metadata": {
    "collapsed": false
   },
   "outputs": [
    {
     "name": "stdout",
     "output_type": "stream",
     "text": [
      "Tests Passed!\n"
     ]
    }
   ],
   "source": [
    "# Problem 1 - Implement Min-Max scaling for grayscale image data\n",
    "def normalize_grayscale(image_data):\n",
    "    \"\"\"\n",
    "    Normalize the image data with Min-Max scaling to a range of [0.1, 0.9]\n",
    "    :param image_data: The image data to be normalized\n",
    "    :return: Normalized image data\n",
    "    \"\"\"\n",
    "    # TODO: Implement Min-Max scaling for grayscale image data\n",
    "    a = 0.1\n",
    "    b = 0.9\n",
    "    Xmin = np.min(image_data)\n",
    "    Xmax = np.max(image_data)\n",
    "    D=Xmax-Xmin\n",
    "    normalized_data = [a + (b-a)*(X-Xmin)/D for X in image_data]\n",
    "\n",
    "    return normalized_data\n",
    "    \n",
    "\n",
    "\n",
    "### DON'T MODIFY ANYTHING BELOW ###\n",
    "# Test Cases\n",
    "np.testing.assert_array_almost_equal(\n",
    "    normalize_grayscale(np.array([0, 1, 2, 3, 4, 5, 6, 7, 8, 9, 10, 255])),\n",
    "    [0.1, 0.103137254902, 0.106274509804, 0.109411764706, 0.112549019608, 0.11568627451, 0.118823529412, 0.121960784314,\n",
    "     0.125098039216, 0.128235294118, 0.13137254902, 0.9],\n",
    "    decimal=3)\n",
    "np.testing.assert_array_almost_equal(\n",
    "    normalize_grayscale(np.array([0, 1, 10, 20, 30, 40, 233, 244, 254,255])),\n",
    "    [0.1, 0.103137254902, 0.13137254902, 0.162745098039, 0.194117647059, 0.225490196078, 0.830980392157, 0.865490196078,\n",
    "     0.896862745098, 0.9])\n",
    "\n",
    "if not is_features_normal:\n",
    "    train_features = normalize_grayscale(train_features)\n",
    "    test_features = normalize_grayscale(test_features)\n",
    "    is_features_normal = True\n",
    "\n",
    "print('Tests Passed!')"
   ]
  },
  {
   "cell_type": "code",
   "execution_count": 6,
   "metadata": {
    "collapsed": false
   },
   "outputs": [
    {
     "name": "stdout",
     "output_type": "stream",
     "text": [
      "Labels One-Hot Encoded\n"
     ]
    }
   ],
   "source": [
    "if not is_labels_encod:\n",
    "    # Turn labels into numbers and apply One-Hot Encoding\n",
    "    encoder = LabelBinarizer()\n",
    "    encoder.fit(train_labels)\n",
    "    train_labels = encoder.transform(train_labels)\n",
    "    test_labels = encoder.transform(test_labels)\n",
    "\n",
    "    # Change to float32, so it can be multiplied against the features in TensorFlow, which are float32\n",
    "    train_labels = train_labels.astype(np.float32)\n",
    "    test_labels = test_labels.astype(np.float32)\n",
    "    is_labels_encod = True\n",
    "\n",
    "print('Labels One-Hot Encoded')"
   ]
  },
  {
   "cell_type": "code",
   "execution_count": 7,
   "metadata": {
    "collapsed": false
   },
   "outputs": [
    {
     "name": "stdout",
     "output_type": "stream",
     "text": [
      "Training features and labels randomized and split.\n"
     ]
    }
   ],
   "source": [
    "assert is_features_normal, 'You skipped the step to normalize the features'\n",
    "assert is_labels_encod, 'You skipped the step to One-Hot Encode the labels'\n",
    "\n",
    "# Get randomized datasets for training and validation\n",
    "train_features, valid_features, train_labels, valid_labels = train_test_split(\n",
    "    train_features,\n",
    "    train_labels,\n",
    "    test_size=0.05,\n",
    "    random_state=832289)\n",
    "\n",
    "print('Training features and labels randomized and split.')"
   ]
  },
  {
   "cell_type": "code",
   "execution_count": 8,
   "metadata": {
    "collapsed": false
   },
   "outputs": [
    {
     "name": "stdout",
     "output_type": "stream",
     "text": [
      "Saving data to pickle file...\n",
      "Data cached in pickle file.\n"
     ]
    }
   ],
   "source": [
    "# Save the data for easy access\n",
    "pickle_file = 'notMNIST.pickle'\n",
    "if not os.path.isfile(pickle_file):\n",
    "    print('Saving data to pickle file...')\n",
    "    try:\n",
    "        with open('notMNIST.pickle', 'wb') as pfile:\n",
    "            pickle.dump(\n",
    "                {\n",
    "                    'train_dataset': train_features,\n",
    "                    'train_labels': train_labels,\n",
    "                    'valid_dataset': valid_features,\n",
    "                    'valid_labels': valid_labels,\n",
    "                    'test_dataset': test_features,\n",
    "                    'test_labels': test_labels,\n",
    "                },\n",
    "                pfile, pickle.HIGHEST_PROTOCOL)\n",
    "    except Exception as e:\n",
    "        print('Unable to save data to', pickle_file, ':', e)\n",
    "        raise\n",
    "\n",
    "print('Data cached in pickle file.')"
   ]
  },
  {
   "cell_type": "markdown",
   "metadata": {},
   "source": [
    "# Checkpoint\n",
    "All your progress is now saved to the pickle file.  If you need to leave and comeback to this lab, you no longer have to start from the beginning.  Just run the code block below and it will load all the data and modules required to proceed."
   ]
  },
  {
   "cell_type": "code",
   "execution_count": 9,
   "metadata": {
    "collapsed": false
   },
   "outputs": [
    {
     "name": "stdout",
     "output_type": "stream",
     "text": [
      "Data and modules loaded.\n"
     ]
    }
   ],
   "source": [
    "%matplotlib inline\n",
    "\n",
    "# Load the modules\n",
    "import pickle\n",
    "import math\n",
    "\n",
    "import numpy as np\n",
    "import tensorflow as tf\n",
    "from tqdm import tqdm\n",
    "import matplotlib.pyplot as plt\n",
    "\n",
    "# Reload the data\n",
    "pickle_file = 'notMNIST.pickle'\n",
    "with open(pickle_file, 'rb') as f:\n",
    "  pickle_data = pickle.load(f)\n",
    "  train_features = pickle_data['train_dataset']\n",
    "  train_labels = pickle_data['train_labels']\n",
    "  valid_features = pickle_data['valid_dataset']\n",
    "  valid_labels = pickle_data['valid_labels']\n",
    "  test_features = pickle_data['test_dataset']\n",
    "  test_labels = pickle_data['test_labels']\n",
    "  del pickle_data  # Free up memory\n",
    "\n",
    "\n",
    "print('Data and modules loaded.')"
   ]
  },
  {
   "cell_type": "markdown",
   "metadata": {},
   "source": [
    "<img src=\"image/weight_biases.png\" style=\"height: 60%;width: 60%; position: relative; right: 10%\">\n",
    "## Problem 2\n",
    "For the neural network to train on your data, you need the following <a href=\"https://www.tensorflow.org/resources/dims_types.html#data-types\">float32</a> tensors:\n",
    " - `features`\n",
    "  - Placeholder tensor for feature data (`train_features`/`valid_features`/`test_features`)\n",
    " - `labels`\n",
    "  - Placeholder tensor for label data (`train_labels`/`valid_labels`/`test_labels`)\n",
    " - `weights`\n",
    "  - Variable Tensor with random numbers from a truncated normal distribution.\n",
    "    - See <a href=\"https://www.tensorflow.org/api_docs/python/constant_op.html#truncated_normal\">`tf.truncated_normal()` documentation</a> for help.\n",
    " - `biases`\n",
    "  - Variable Tensor with all zeros.\n",
    "    - See <a href=\"https://www.tensorflow.org/api_docs/python/constant_op.html#zeros\"> `tf.zeros()` documentation</a> for help.\n",
    "\n",
    "*If you're having trouble solving problem 2, review \"TensorFlow Linear Function\" section of the class.  If that doesn't help, the solution for this problem is available [here](https://github.com/udacity/CarND-TensorFlow-Lab/blob/master/solutions.ipynb).*"
   ]
  },
  {
   "cell_type": "code",
   "execution_count": 10,
   "metadata": {
    "collapsed": false
   },
   "outputs": [
    {
     "name": "stdout",
     "output_type": "stream",
     "text": [
      "Tests Passed!\n"
     ]
    }
   ],
   "source": [
    "features_count = 784\n",
    "labels_count = 10\n",
    "\n",
    "# TODO: Set the features and labels tensors\n",
    "features = tf.placeholder(tf.float32)\n",
    "labels = tf.placeholder(tf.float32)\n",
    "\n",
    "# TODO: Set the weights and biases tensors\n",
    "weights = tf.Variable(tf.truncated_normal((features_count, labels_count)))\n",
    "biases = tf.Variable(tf.zeros(labels_count))\n",
    "\n",
    "\n",
    "\n",
    "### DON'T MODIFY ANYTHING BELOW ###\n",
    "\n",
    "#Test Cases\n",
    "from tensorflow.python.ops.variables import Variable\n",
    "\n",
    "assert features._op.name.startswith('Placeholder'), 'features must be a placeholder'\n",
    "assert labels._op.name.startswith('Placeholder'), 'labels must be a placeholder'\n",
    "assert isinstance(weights, Variable), 'weights must be a TensorFlow variable'\n",
    "assert isinstance(biases, Variable), 'biases must be a TensorFlow variable'\n",
    "\n",
    "assert features._shape == None or (\\\n",
    "    features._shape.dims[0].value is None and\\\n",
    "    features._shape.dims[1].value in [None, 784]), 'The shape of features is incorrect'\n",
    "assert labels._shape  == None or (\\\n",
    "    labels._shape.dims[0].value is None and\\\n",
    "    labels._shape.dims[1].value in [None, 10]), 'The shape of labels is incorrect'\n",
    "assert weights._variable._shape == (784, 10), 'The shape of weights is incorrect'\n",
    "assert biases._variable._shape == (10), 'The shape of biases is incorrect'\n",
    "\n",
    "assert features._dtype == tf.float32, 'features must be type float32'\n",
    "assert labels._dtype == tf.float32, 'labels must be type float32'\n",
    "\n",
    "# Feed dicts for training, validation, and test session\n",
    "train_feed_dict = {features: train_features, labels: train_labels}\n",
    "valid_feed_dict = {features: valid_features, labels: valid_labels}\n",
    "test_feed_dict = {features: test_features, labels: test_labels}\n",
    "\n",
    "# Linear Function WX + b\n",
    "logits = tf.matmul(features, weights) + biases\n",
    "\n",
    "prediction = tf.nn.softmax(logits)\n",
    "\n",
    "# Cross entropy\n",
    "cross_entropy = -tf.reduce_sum(labels * tf.log(prediction), reduction_indices=1)\n",
    "\n",
    "# Training loss\n",
    "loss = tf.reduce_mean(cross_entropy)\n",
    "\n",
    "# Create an operation that initializes all variables\n",
    "init = tf.global_variables_initializer()\n",
    "\n",
    "# Test Cases\n",
    "with tf.Session() as session:\n",
    "    session.run(init)\n",
    "    session.run(loss, feed_dict=train_feed_dict)\n",
    "    session.run(loss, feed_dict=valid_feed_dict)\n",
    "    session.run(loss, feed_dict=test_feed_dict)\n",
    "    biases_data = session.run(biases)\n",
    "\n",
    "assert not np.count_nonzero(biases_data), 'biases must be zeros'\n",
    "\n",
    "print('Tests Passed!')"
   ]
  },
  {
   "cell_type": "code",
   "execution_count": 11,
   "metadata": {
    "collapsed": false
   },
   "outputs": [
    {
     "name": "stdout",
     "output_type": "stream",
     "text": [
      "Accuracy function created.\n"
     ]
    }
   ],
   "source": [
    "# Determine if the predictions are correct\n",
    "is_correct_prediction = tf.equal(tf.argmax(prediction, 1), tf.argmax(labels, 1))\n",
    "# Calculate the accuracy of the predictions\n",
    "accuracy = tf.reduce_mean(tf.cast(is_correct_prediction, tf.float32))\n",
    "\n",
    "print('Accuracy function created.')"
   ]
  },
  {
   "cell_type": "markdown",
   "metadata": {},
   "source": [
    "<img src=\"image/learn_rate_tune.png\" style=\"height: 60%;width: 60%\">\n",
    "## Problem 3\n",
    "Below are 3 parameter configurations for training the neural network. In each configuration, one of the parameters has multiple options. For each configuration, choose the option that gives the best acccuracy.\n",
    "\n",
    "Parameter configurations:\n",
    "\n",
    "Configuration 1\n",
    "* **Epochs:** 1\n",
    "* **Batch Size:**\n",
    "  * 2000\n",
    "  * 1000\n",
    "  * 500\n",
    "  * 300\n",
    "  * 50\n",
    "* **Learning Rate:** 0.01\n",
    "\n",
    "Configuration 2\n",
    "* **Epochs:** 1\n",
    "* **Batch Size:** 100\n",
    "* **Learning Rate:**\n",
    "  * 0.8\n",
    "  * 0.5\n",
    "  * 0.1\n",
    "  * 0.05\n",
    "  * 0.01\n",
    "\n",
    "Configuration 3\n",
    "* **Epochs:**\n",
    "  * 1\n",
    "  * 2\n",
    "  * 3\n",
    "  * 4\n",
    "  * 5\n",
    "* **Batch Size:** 100\n",
    "* **Learning Rate:** 0.2\n",
    "\n",
    "The code will print out a Loss and Accuracy graph, so you can see how well the neural network performed.\n",
    "\n",
    "*If you're having trouble solving problem 3, you can view the solution [here](https://github.com/udacity/CarND-TensorFlow-Lab/blob/master/solutions.ipynb).*"
   ]
  },
  {
   "cell_type": "code",
   "execution_count": 33,
   "metadata": {
    "collapsed": false
   },
   "outputs": [
    {
     "name": "stderr",
     "output_type": "stream",
     "text": [
      "Epoch  1/50: 100%|██████████| 2850/2850 [00:37<00:00, 75.42batches/s]\n",
      "Epoch  2/50: 100%|██████████| 2850/2850 [00:35<00:00, 80.65batches/s]\n",
      "Epoch  3/50: 100%|██████████| 2850/2850 [00:35<00:00, 80.39batches/s]\n",
      "Epoch  4/50: 100%|██████████| 2850/2850 [00:32<00:00, 86.40batches/s]\n",
      "Epoch  5/50: 100%|██████████| 2850/2850 [00:33<00:00, 86.10batches/s]\n",
      "Epoch  6/50: 100%|██████████| 2850/2850 [00:33<00:00, 86.05batches/s]\n",
      "Epoch  7/50: 100%|██████████| 2850/2850 [00:33<00:00, 83.86batches/s]\n",
      "Epoch  8/50: 100%|██████████| 2850/2850 [00:33<00:00, 85.66batches/s]\n",
      "Epoch  9/50: 100%|██████████| 2850/2850 [00:33<00:00, 84.27batches/s]\n",
      "Epoch 10/50: 100%|██████████| 2850/2850 [00:33<00:00, 84.36batches/s]\n",
      "Epoch 11/50: 100%|██████████| 2850/2850 [00:34<00:00, 82.42batches/s]\n",
      "Epoch 12/50: 100%|██████████| 2850/2850 [00:33<00:00, 85.06batches/s]\n",
      "Epoch 13/50: 100%|██████████| 2850/2850 [00:33<00:00, 85.38batches/s]\n",
      "Epoch 14/50: 100%|██████████| 2850/2850 [00:33<00:00, 85.48batches/s]\n",
      "Epoch 15/50: 100%|██████████| 2850/2850 [00:33<00:00, 84.93batches/s]\n",
      "Epoch 16/50: 100%|██████████| 2850/2850 [00:33<00:00, 85.70batches/s]\n",
      "Epoch 17/50: 100%|██████████| 2850/2850 [00:33<00:00, 85.71batches/s]\n",
      "Epoch 18/50: 100%|██████████| 2850/2850 [00:33<00:00, 86.04batches/s]\n",
      "Epoch 19/50: 100%|██████████| 2850/2850 [00:33<00:00, 85.25batches/s]\n",
      "Epoch 20/50: 100%|██████████| 2850/2850 [00:33<00:00, 85.63batches/s]\n",
      "Epoch 21/50: 100%|██████████| 2850/2850 [00:33<00:00, 85.12batches/s]\n",
      "Epoch 22/50: 100%|██████████| 2850/2850 [00:33<00:00, 84.79batches/s]\n",
      "Epoch 23/50: 100%|██████████| 2850/2850 [00:35<00:00, 80.39batches/s]\n",
      "Epoch 24/50: 100%|██████████| 2850/2850 [00:35<00:00, 79.32batches/s]\n",
      "Epoch 25/50: 100%|██████████| 2850/2850 [00:35<00:00, 80.67batches/s]\n",
      "Epoch 26/50: 100%|██████████| 2850/2850 [00:32<00:00, 86.43batches/s]\n",
      "Epoch 27/50: 100%|██████████| 2850/2850 [00:32<00:00, 86.56batches/s]\n",
      "Epoch 28/50: 100%|██████████| 2850/2850 [00:33<00:00, 86.23batches/s]\n",
      "Epoch 29/50: 100%|██████████| 2850/2850 [00:33<00:00, 84.36batches/s]\n",
      "Epoch 30/50: 100%|██████████| 2850/2850 [00:33<00:00, 84.26batches/s]\n",
      "Epoch 31/50: 100%|██████████| 2850/2850 [00:33<00:00, 85.56batches/s]\n",
      "Epoch 32/50: 100%|██████████| 2850/2850 [00:33<00:00, 84.24batches/s]\n",
      "Epoch 33/50: 100%|██████████| 2850/2850 [00:33<00:00, 84.98batches/s]\n",
      "Epoch 34/50: 100%|██████████| 2850/2850 [00:33<00:00, 85.34batches/s]\n",
      "Epoch 35/50: 100%|██████████| 2850/2850 [00:32<00:00, 86.38batches/s]\n",
      "Epoch 36/50: 100%|██████████| 2850/2850 [00:33<00:00, 86.31batches/s]\n",
      "Epoch 37/50: 100%|██████████| 2850/2850 [00:33<00:00, 83.95batches/s]\n",
      "Epoch 38/50: 100%|██████████| 2850/2850 [00:33<00:00, 84.32batches/s]\n",
      "Epoch 39/50: 100%|██████████| 2850/2850 [00:33<00:00, 84.84batches/s]\n",
      "Epoch 40/50: 100%|██████████| 2850/2850 [00:33<00:00, 84.69batches/s]\n",
      "Epoch 41/50: 100%|██████████| 2850/2850 [00:33<00:00, 84.44batches/s]\n",
      "Epoch 42/50: 100%|██████████| 2850/2850 [00:34<00:00, 83.79batches/s]\n",
      "Epoch 43/50: 100%|██████████| 2850/2850 [00:34<00:00, 82.11batches/s]\n",
      "Epoch 44/50: 100%|██████████| 2850/2850 [00:33<00:00, 84.05batches/s]\n",
      "Epoch 45/50: 100%|██████████| 2850/2850 [00:34<00:00, 83.07batches/s]\n",
      "Epoch 46/50: 100%|██████████| 2850/2850 [00:34<00:00, 81.52batches/s]\n",
      "Epoch 47/50: 100%|██████████| 2850/2850 [00:34<00:00, 81.95batches/s]\n",
      "Epoch 48/50: 100%|██████████| 2850/2850 [00:33<00:00, 85.91batches/s]\n",
      "Epoch 49/50: 100%|██████████| 2850/2850 [00:32<00:00, 86.67batches/s]\n",
      "Epoch 50/50: 100%|██████████| 2850/2850 [00:32<00:00, 86.43batches/s]\n"
     ]
    },
    {
     "data": {
      "image/png": "[encoded data removed]",
      "text/plain": [
       "<matplotlib.figure.Figure at 0xd1f7d68>"
      ]
     },
     "metadata": {},
     "output_type": "display_data"
    },
    {
     "name": "stdout",
     "output_type": "stream",
     "text": [
      "Validation accuracy at 0.8068000078201294\n"
     ]
    }
   ],
   "source": [
    "# TODO: Find the best parameters for each configuration\n",
    "epochs = 50\n",
    "batch_size = 50\n",
    "learning_rate = 0.2\n",
    "\n",
    "\n",
    "\n",
    "### DON'T MODIFY ANYTHING BELOW ###\n",
    "# Gradient Descent\n",
    "optimizer = tf.train.GradientDescentOptimizer(learning_rate).minimize(loss)    \n",
    "\n",
    "# The accuracy measured against the validation set\n",
    "validation_accuracy = 0.0\n",
    "\n",
    "# Measurements use for graphing loss and accuracy\n",
    "log_batch_step = 50\n",
    "batches = []\n",
    "loss_batch = []\n",
    "train_acc_batch = []\n",
    "valid_acc_batch = []\n",
    "\n",
    "with tf.Session() as session:\n",
    "    session.run(init)\n",
    "    batch_count = int(math.ceil(len(train_features)/batch_size))\n",
    "\n",
    "    for epoch_i in range(epochs):\n",
    "        \n",
    "        # Progress bar\n",
    "        batches_pbar = tqdm(range(batch_count), desc='Epoch {:>2}/{}'.format(epoch_i+1, epochs), unit='batches')\n",
    "        \n",
    "        # The training cycle\n",
    "        for batch_i in batches_pbar:\n",
    "            # Get a batch of training features and labels\n",
    "            batch_start = batch_i*batch_size\n",
    "            batch_features = train_features[batch_start:batch_start + batch_size]\n",
    "            batch_labels = train_labels[batch_start:batch_start + batch_size]\n",
    "\n",
    "            # Run optimizer and get loss\n",
    "            _, l = session.run(\n",
    "                [optimizer, loss],\n",
    "                feed_dict={features: batch_features, labels: batch_labels})\n",
    "\n",
    "            # Log every 50 batches\n",
    "            if not batch_i % log_batch_step:\n",
    "                # Calculate Training and Validation accuracy\n",
    "                training_accuracy = session.run(accuracy, feed_dict=train_feed_dict)\n",
    "                validation_accuracy = session.run(accuracy, feed_dict=valid_feed_dict)\n",
    "\n",
    "                # Log batches\n",
    "                previous_batch = batches[-1] if batches else 0\n",
    "                batches.append(log_batch_step + previous_batch)\n",
    "                loss_batch.append(l)\n",
    "                train_acc_batch.append(training_accuracy)\n",
    "                valid_acc_batch.append(validation_accuracy)\n",
    "\n",
    "        # Check accuracy against Validation data\n",
    "        validation_accuracy = session.run(accuracy, feed_dict=valid_feed_dict)\n",
    "\n",
    "loss_plot = plt.subplot(211)\n",
    "loss_plot.set_title('Loss')\n",
    "loss_plot.plot(batches, loss_batch, 'g')\n",
    "loss_plot.set_xlim([batches[0], batches[-1]])\n",
    "acc_plot = plt.subplot(212)\n",
    "acc_plot.set_title('Accuracy')\n",
    "acc_plot.plot(batches, train_acc_batch, 'r', label='Training Accuracy')\n",
    "acc_plot.plot(batches, valid_acc_batch, 'x', label='Validation Accuracy')\n",
    "acc_plot.set_ylim([0, 1.0])\n",
    "acc_plot.set_xlim([batches[0], batches[-1]])\n",
    "acc_plot.legend(loc=4)\n",
    "plt.tight_layout()\n",
    "plt.show()\n",
    "\n",
    "print('Validation accuracy at {}'.format(validation_accuracy))"
   ]
  },
  {
   "cell_type": "markdown",
   "metadata": {},
   "source": [
    "Configuration 1:\n",
    "Epochs = 1 \n",
    "Learning Rate = 0.01\n",
    "    Batch Size     Accuracy\n",
    "    2000           0.15399999916553497\n",
    "    1000           0.133200004696846\n",
    "    500            0.25200000405311584\n",
    "    300            0.3059999942779541\n",
    "    50             0.6611999869346619\n",
    "    \n",
    "Configuration 2:\n",
    "Epochs = 1 \n",
    "Batch Size = 100\n",
    "    Learning Rate  Accuracy\n",
    "    0.8            0.09813333302736282\n",
    "    0.5            0.7669333219528198\n",
    "    0.1            0.7474666833877563\n",
    "    0.05           0.7322666645050049\n",
    "    0.01           0.5672000050544739 \n",
    "    \n",
    "Configuration 3: \n",
    "Batch Size = 100\n",
    "Learning Rate = 0.2\n",
    "    Epochs         Accuracy\n",
    "    1              0.7618666887283325\n",
    "    2              0.7720000147819519\n",
    "    3              0.7701333165168762\n",
    "    4              0.7789333462715149\n",
    "    5              0.7868000268936157\n",
    "\n",
    "Configuration 4a: (best choice each)\n",
    "Epochs =  5\n",
    "Learning Rate = 0.5\n",
    "Batch Size = 50  \n",
    "Accuracy = 0.09813333302736282\n",
    "\n",
    "Configuration 4b: (best choice each)\n",
    "Epochs =  5\n",
    "Learning Rate = 0.2\n",
    "Batch Size = 50  \n",
    "Accuracy = 0.7904000282287598\n",
    "\n",
    "Configuration 4c: (best choice each)\n",
    "Epochs =  5\n",
    "Learning Rate = 0.25\n",
    "Batch Size = 50  \n",
    "Accuracy = 0.791866660118103\n",
    "\n",
    "Configuration 4c: (best choice each)\n",
    "Epochs =  10\n",
    "Learning Rate = 0.25\n",
    "Batch Size = 50  \n",
    "Accuracy = 0.795199990272522\n",
    "\n",
    "Configuration 4c: (best choice each)\n",
    "Epochs =  10\n",
    "Learning Rate = 0.25\n",
    "Batch Size = 128  \n",
    "Accuracy = 0.7785333395004272\n",
    "\n",
    "Configuration 4c: (best choice each)\n",
    "Epochs =  20\n",
    "Learning Rate = 0.2\n",
    "Batch Size = 50  \n",
    "Accuracy = 0.7991999983787537\n",
    "\n",
    "Configuration 4c: (best choice each)\n",
    "Epochs =  50\n",
    "Learning Rate = 0.2\n",
    "Batch Size = 50  \n",
    "Accuracy = 0.8068000078201294"
   ]
  },
  {
   "cell_type": "markdown",
   "metadata": {},
   "source": [
    "## Test\n",
    "Set the epochs, batch_size, and learning_rate with the best learning parameters you discovered in problem 3.  You're going to test your model against your hold out dataset/testing data.  This will give you a good indicator of how well the model will do in the real world.  You should have a test accuracy of at least 80%."
   ]
  },
  {
   "cell_type": "code",
   "execution_count": 34,
   "metadata": {
    "collapsed": false
   },
   "outputs": [
    {
     "name": "stderr",
     "output_type": "stream",
     "text": [
      "Epoch  1/50: 100%|██████████| 2850/2850 [00:02<00:00, 1374.74batches/s]\n",
      "Epoch  2/50: 100%|██████████| 2850/2850 [00:02<00:00, 1408.02batches/s]\n",
      "Epoch  3/50: 100%|██████████| 2850/2850 [00:02<00:00, 1405.94batches/s]\n",
      "Epoch  4/50: 100%|██████████| 2850/2850 [00:01<00:00, 1466.72batches/s]\n",
      "Epoch  5/50: 100%|██████████| 2850/2850 [00:02<00:00, 1413.61batches/s]\n",
      "Epoch  6/50: 100%|██████████| 2850/2850 [00:02<00:00, 1403.17batches/s]\n",
      "Epoch  7/50: 100%|██████████| 2850/2850 [00:02<00:00, 1410.11batches/s]\n",
      "Epoch  8/50: 100%|██████████| 2850/2850 [00:02<00:00, 1376.73batches/s]\n",
      "Epoch  9/50: 100%|██████████| 2850/2850 [00:02<00:00, 1368.14batches/s]\n",
      "Epoch 10/50: 100%|██████████| 2850/2850 [00:01<00:00, 1432.80batches/s]\n",
      "Epoch 11/50: 100%|██████████| 2850/2850 [00:02<00:00, 1399.04batches/s]\n",
      "Epoch 12/50: 100%|██████████| 2850/2850 [00:02<00:00, 1327.36batches/s]\n",
      "Epoch 13/50: 100%|██████████| 2850/2850 [00:02<00:00, 1281.40batches/s]\n",
      "Epoch 14/50: 100%|██████████| 2850/2850 [00:02<00:00, 1405.94batches/s]\n",
      "Epoch 15/50: 100%|██████████| 2850/2850 [00:02<00:00, 1422.07batches/s]\n",
      "Epoch 16/50: 100%|██████████| 2850/2850 [00:01<00:00, 1435.69batches/s]\n",
      "Epoch 17/50: 100%|██████████| 2850/2850 [00:02<00:00, 1422.78batches/s]\n",
      "Epoch 18/50: 100%|██████████| 2850/2850 [00:02<00:00, 1419.95batches/s]\n",
      "Epoch 19/50: 100%|██████████| 2850/2850 [00:01<00:00, 1459.96batches/s]\n",
      "Epoch 20/50: 100%|██████████| 2850/2850 [00:02<00:00, 1293.03batches/s]\n",
      "Epoch 21/50: 100%|██████████| 2850/2850 [00:02<00:00, 1407.33batches/s]\n",
      "Epoch 22/50: 100%|██████████| 2850/2850 [00:01<00:00, 1454.74batches/s]\n",
      "Epoch 23/50: 100%|██████████| 2850/2850 [00:02<00:00, 1407.33batches/s]\n",
      "Epoch 24/50: 100%|██████████| 2850/2850 [00:01<00:00, 1454.00batches/s]\n",
      "Epoch 25/50: 100%|██████████| 2850/2850 [00:01<00:00, 1453.26batches/s]\n",
      "Epoch 26/50: 100%|██████████| 2850/2850 [00:01<00:00, 1430.64batches/s]\n",
      "Epoch 27/50: 100%|██████████| 2850/2850 [00:02<00:00, 1401.10batches/s]\n",
      "Epoch 28/50: 100%|██████████| 2850/2850 [00:02<00:00, 1419.95batches/s]\n",
      "Epoch 29/50: 100%|██████████| 2850/2850 [00:02<00:00, 1417.12batches/s]\n",
      "Epoch 30/50: 100%|██████████| 2850/2850 [00:02<00:00, 1382.07batches/s]\n",
      "Epoch 31/50: 100%|██████████| 2850/2850 [00:02<00:00, 1393.56batches/s]\n",
      "Epoch 32/50: 100%|██████████| 2850/2850 [00:02<00:00, 1408.72batches/s]\n",
      "Epoch 33/50: 100%|██████████| 2850/2850 [00:02<00:00, 1373.42batches/s]\n",
      "Epoch 34/50: 100%|██████████| 2850/2850 [00:01<00:00, 1426.34batches/s]\n",
      "Epoch 35/50: 100%|██████████| 2850/2850 [00:02<00:00, 1405.25batches/s]\n",
      "Epoch 36/50: 100%|██████████| 2850/2850 [00:01<00:00, 1439.31batches/s]\n",
      "Epoch 37/50: 100%|██████████| 2850/2850 [00:02<00:00, 1382.74batches/s]\n",
      "Epoch 38/50: 100%|██████████| 2850/2850 [00:02<00:00, 1420.66batches/s]\n",
      "Epoch 39/50: 100%|██████████| 2850/2850 [00:02<00:00, 1404.55batches/s]\n",
      "Epoch 40/50: 100%|██████████| 2850/2850 [00:02<00:00, 1397.66batches/s]\n",
      "Epoch 41/50: 100%|██████████| 2850/2850 [00:01<00:00, 1487.39batches/s]\n",
      "Epoch 42/50: 100%|██████████| 2850/2850 [00:02<00:00, 1386.11batches/s]\n",
      "Epoch 43/50: 100%|██████████| 2850/2850 [00:02<00:00, 1396.98batches/s]\n",
      "Epoch 44/50: 100%|██████████| 2850/2850 [00:02<00:00, 1410.11batches/s]\n",
      "Epoch 45/50: 100%|██████████| 2850/2850 [00:01<00:00, 1434.24batches/s]\n",
      "Epoch 46/50: 100%|██████████| 2850/2850 [00:02<00:00, 1420.66batches/s]\n",
      "Epoch 47/50: 100%|██████████| 2850/2850 [00:02<00:00, 1285.45batches/s]\n",
      "Epoch 48/50: 100%|██████████| 2850/2850 [00:02<00:00, 1390.84batches/s]\n",
      "Epoch 49/50: 100%|██████████| 2850/2850 [00:02<00:00, 1389.49batches/s]\n",
      "Epoch 50/50: 100%|██████████| 2850/2850 [00:02<00:00, 1229.97batches/s]\n"
     ]
    },
    {
     "name": "stdout",
     "output_type": "stream",
     "text": [
      "Nice Job! Test Accuracy is 0.8679999709129333\n"
     ]
    }
   ],
   "source": [
    "# TODO: Set the epochs, batch_size, and learning_rate with the best parameters from problem 3\n",
    "epochs = 50\n",
    "batch_size = 50\n",
    "learning_rate = 0.2\n",
    "\n",
    "\n",
    "\n",
    "### DON'T MODIFY ANYTHING BELOW ###\n",
    "# The accuracy measured against the test set\n",
    "test_accuracy = 0.0\n",
    "\n",
    "with tf.Session() as session:\n",
    "    \n",
    "    session.run(init)\n",
    "    batch_count = int(math.ceil(len(train_features)/batch_size))\n",
    "\n",
    "    for epoch_i in range(epochs):\n",
    "        \n",
    "        # Progress bar\n",
    "        batches_pbar = tqdm(range(batch_count), desc='Epoch {:>2}/{}'.format(epoch_i+1, epochs), unit='batches')\n",
    "        \n",
    "        # The training cycle\n",
    "        for batch_i in batches_pbar:\n",
    "            # Get a batch of training features and labels\n",
    "            batch_start = batch_i*batch_size\n",
    "            batch_features = train_features[batch_start:batch_start + batch_size]\n",
    "            batch_labels = train_labels[batch_start:batch_start + batch_size]\n",
    "\n",
    "            # Run optimizer\n",
    "            _ = session.run(optimizer, feed_dict={features: batch_features, labels: batch_labels})\n",
    "\n",
    "        # Check accuracy against Test data\n",
    "        test_accuracy = session.run(accuracy, feed_dict=test_feed_dict)\n",
    "\n",
    "\n",
    "assert test_accuracy >= 0.80, 'Test accuracy at {}, should be equal to or greater than 0.80'.format(test_accuracy)\n",
    "print('Nice Job! Test Accuracy is {}'.format(test_accuracy))"
   ]
  },
  {
   "cell_type": "markdown",
   "metadata": {},
   "source": [
    "# Multiple layers\n",
    "Good job!  You built a one layer TensorFlow network!  However, you want to build more than one layer.  This is deep learning after all!  In the next section, you will start to satisfy your need for more layers."
   ]
  }
 ],
 "metadata": {
  "anaconda-cloud": {},
  "kernelspec": {
   "display_name": "Python 3",
   "language": "python",
   "name": "python3"
  },
  "language_info": {
   "codemirror_mode": {
    "name": "ipython",
    "version": 3
   },
   "file_extension": ".py",
   "mimetype": "text/x-python",
   "name": "python",
   "nbconvert_exporter": "python",
   "pygments_lexer": "ipython3",
   "version": "3.5.2"
  }
 },
 "nbformat": 4,
 "nbformat_minor": 0
}
